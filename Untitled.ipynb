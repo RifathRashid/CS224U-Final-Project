{
 "cells": [
  {
   "cell_type": "code",
   "execution_count": null,
   "metadata": {},
   "outputs": [],
   "source": [
    "import os \n",
    "import itertools \n",
    "import spacy"
   ]
  },
  {
   "cell_type": "code",
   "execution_count": null,
   "metadata": {},
   "outputs": [],
   "source": [
    "def read_articles_from_disk(data_directories):\n",
    "    counter = 0\n",
    "    articles = []\n",
    "    for directory in data_directories: \n",
    "        file_list = os.listdir(directory)\n",
    "        files_to_read = [os.path.join(directory, file) for file in file_list]\n",
    "        for file in files_to_read: \n",
    "            with open(file, 'r') as content_file:\n",
    "                content = content_file.read()\n",
    "                articles.append(content)\n",
    "    return articles"
   ]
  },
  {
   "cell_type": "code",
   "execution_count": null,
   "metadata": {},
   "outputs": [],
   "source": [
    "def get_paths_from_tickers(tickers):\n",
    "    root_data_dir = 'article_data'\n",
    "    data_directories = [os.path.join(root_data_dir, t) for t in tickers]\n",
    "    return data_directories"
   ]
  },
  {
   "cell_type": "code",
   "execution_count": null,
   "metadata": {},
   "outputs": [],
   "source": [
    "def get_articles_for_tickers(tickers):\n",
    "    path_names = get_paths_from_tickers(tickers)\n",
    "    articles = read_articles_from_disk(path_names)\n",
    "    return set(articles)"
   ]
  },
  {
   "cell_type": "code",
   "execution_count": null,
   "metadata": {},
   "outputs": [],
   "source": [
    "def get_sp500_list():\n",
    "    companies = [s for s in pd.read_csv('constituents.csv', header=0)['Symbol']]\n",
    "    companies.remove('A')\n",
    "    companies.remove('T')\n",
    "    companies.remove('GOOG')\n",
    "    return companies"
   ]
  },
  {
   "cell_type": "code",
   "execution_count": null,
   "metadata": {},
   "outputs": [],
   "source": [
    "def get_tickers_in_directory():\n",
    "    return ['AAPL', 'CSCO', 'GOOGL', 'INTC', 'MCD', 'NFLX', 'TRV', 'VZ', 'AXP', 'CVX', 'GS', 'JNJ', 'MMM', 'NKE', 'UNH', 'WBA', 'BA', 'DIS', 'HD', 'JPM', 'MRK', 'PFE', 'UTX', 'WMT', \n",
    "           'CAT', 'DOW', 'IBM', 'KO', 'MSFT', 'PG', 'V', 'XOM']"
   ]
  },
  {
   "cell_type": "code",
   "execution_count": null,
   "metadata": {},
   "outputs": [],
   "source": [
    "def get_company_set(article, tickers):\n",
    "    words_found = set([])\n",
    "    ticker_set = set(tickers)\n",
    "    article = article.split()\n",
    "    for word in article:\n",
    "        if word in ticker_set: \n",
    "            words_found.add(word)\n",
    "    return words_found"
   ]
  },
  {
   "cell_type": "code",
   "execution_count": null,
   "metadata": {},
   "outputs": [],
   "source": [
    "def get_all_sentences(articles):\n",
    "    nlp = spacy.load(\"en_core_web_sm\")\n",
    "    all_sentences = []\n",
    "    counter = 0\n",
    "    \n",
    "    for a in articles:\n",
    "        print('Counter at: ', counter)\n",
    "        doc = nlp(a)\n",
    "        for s in doc.sents:\n",
    "            all_sentences.append(s)\n",
    "        counter += 1\n",
    "    return all_sentences"
   ]
  },
  {
   "cell_type": "code",
   "execution_count": null,
   "metadata": {},
   "outputs": [],
   "source": [
    "tickers = get_tickers_in_directory()\n",
    "\n",
    "all_articles = get_articles_for_tickers(tickers)"
   ]
  },
  {
   "cell_type": "code",
   "execution_count": null,
   "metadata": {},
   "outputs": [],
   "source": [
    "counts_dict = {t:0 for t in tickers}\n",
    "for a in all_articles: \n",
    "    for key in counts_dict: \n",
    "        if key in a: \n",
    "            counts_dict[key] += 1"
   ]
  },
  {
   "cell_type": "code",
   "execution_count": null,
   "metadata": {},
   "outputs": [],
   "source": [
    "rankings = sorted([(v, k) for k, v in counts_dict.items()], reverse=True)"
   ]
  },
  {
   "cell_type": "code",
   "execution_count": null,
   "metadata": {},
   "outputs": [],
   "source": [
    "rankings"
   ]
  },
  {
   "cell_type": "code",
   "execution_count": null,
   "metadata": {},
   "outputs": [],
   "source": [
    "pairs_dict = {}\n",
    "tripples_dict = {}\n",
    "\n",
    "for a in all_articles: \n",
    "    cs = get_company_set(a, tickers)\n",
    "    pairs = itertools.combinations(cs, 2)\n",
    "    tripples = itertools.combinations(cs, 3)\n",
    "    \n",
    "    for p in pairs: \n",
    "        pp = sorted(p)\n",
    "        pp = tuple(pp)\n",
    "        if pp not in pairs_dict:\n",
    "            pairs_dict[pp] = 0\n",
    "        pairs_dict[pp] += 1\n",
    "    \n",
    "    for t in tripples:\n",
    "        tt = sorted(t)\n",
    "        tt = tuple(tt)\n",
    "        if tt not in tripples_dict:\n",
    "            tripples_dict[tt] = 0\n",
    "        tripples_dict[tt] += 1"
   ]
  },
  {
   "cell_type": "code",
   "execution_count": null,
   "metadata": {},
   "outputs": [],
   "source": [
    "rankings_pair = sorted([(v, k) for k, v in pairs_dict.items()], reverse=True)\n",
    "rankings_pair\n",
    "\n",
    "for p in rankings_pair: \n",
    "    if 'NKE' in list(p[1]):\n",
    "        print(p)"
   ]
  },
  {
   "cell_type": "code",
   "execution_count": null,
   "metadata": {},
   "outputs": [],
   "source": [
    "rankings_tripple = sorted([(v, k) for k, v in tripples_dict.items()], reverse=True)\n",
    "rankings_tripple"
   ]
  },
  {
   "cell_type": "code",
   "execution_count": null,
   "metadata": {},
   "outputs": [],
   "source": [
    "sentences = get_all_sentences(all_articles)"
   ]
  },
  {
   "cell_type": "code",
   "execution_count": null,
   "metadata": {},
   "outputs": [],
   "source": [
    "\n",
    "print(len(sentences))"
   ]
  },
  {
   "cell_type": "code",
   "execution_count": null,
   "metadata": {},
   "outputs": [],
   "source": [
    "def get_financial_metric_dict(tickers, metric):\n",
    "    result_dict = {}\n",
    "    for t in tickers: \n",
    "        data = financial_data.get_quarterly_data(t)\n",
    "        if t not in result_dict:\n",
    "            if data:\n",
    "                result_dict[t] = float(data[metric])\n",
    "    return result_dict\n",
    "import financial_data_api as fd\n",
    "inspect_set = get_tickers_in_directory()\n",
    "ebit_data = get_financial_metric_dict(inspect_set, 'EPS Growth')"
   ]
  },
  {
   "cell_type": "code",
   "execution_count": null,
   "metadata": {},
   "outputs": [],
   "source": []
  }
 ],
 "metadata": {
  "kernelspec": {
   "display_name": "Python 3",
   "language": "python",
   "name": "python3"
  },
  "language_info": {
   "codemirror_mode": {
    "name": "ipython",
    "version": 3
   },
   "file_extension": ".py",
   "mimetype": "text/x-python",
   "name": "python",
   "nbconvert_exporter": "python",
   "pygments_lexer": "ipython3",
   "version": "3.7.1"
  }
 },
 "nbformat": 4,
 "nbformat_minor": 2
}
