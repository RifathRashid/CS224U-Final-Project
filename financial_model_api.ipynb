{
 "cells": [
  {
   "cell_type": "code",
   "execution_count": 25,
   "metadata": {},
   "outputs": [],
   "source": [
    "try:\n",
    "    # For Python 3.0 and later\n",
    "    from urllib.request import urlopen\n",
    "except ImportError:\n",
    "    # Fall back to Python 2's urllib2\n",
    "    from urllib2 import urlopen\n",
    "\n",
    "import json\n",
    "\n",
    "def get_jsonparsed_data(url):\n",
    "    \"\"\"\n",
    "    Receive the content of ``url``, parse it as JSON and return the object.\n",
    "\n",
    "    Parameters\n",
    "    ----------\n",
    "    url : str\n",
    "\n",
    "    Returns\n",
    "    -------\n",
    "    dict\n",
    "    \"\"\"\n",
    "    response = urlopen(url)\n",
    "    data = response.read().decode(\"utf-8\")\n",
    "    return json.loads(data)\n",
    "\n",
    "url = (\"https://financialmodelingprep.com/api/v3/financial-statement-growth/GOOGL?period=quarter\")\n",
    "data = get_jsonparsed_data(url)\n"
   ]
  },
  {
   "cell_type": "code",
   "execution_count": 28,
   "metadata": {},
   "outputs": [
    {
     "data": {
      "text/plain": [
       "{'date': '2019-03-31',\n",
       " 'Gross Profit Growth': '0.1498',\n",
       " 'EBIT Growth': '-0.2274',\n",
       " 'Operating Income Growth': '-0.1343',\n",
       " 'Net Income Growth': '-0.2919',\n",
       " 'EPS Growth': '-0.2919',\n",
       " 'EPS Diluted Growth': '-0.2873',\n",
       " 'Weighted Average Shares Growth': '-0.0002',\n",
       " 'Weighted Average Shares Diluted Growth': '0.0063',\n",
       " 'Dividends per Share Growth': '0.0',\n",
       " 'Operating Cash Flow growth': '0.0308',\n",
       " 'Free Cash Flow growth': '0.6913',\n",
       " 'Receivables growth': '0.1414',\n",
       " 'Inventory Growth': '0.6557',\n",
       " 'Asset Growth': '0.1856',\n",
       " 'Book Value per Share Growth': '0.141',\n",
       " 'Debt Growth': '1.3146',\n",
       " 'R&D Expense Growth': '0.1965',\n",
       " 'SG&A Expenses Growth': '0.1969'}"
      ]
     },
     "execution_count": 28,
     "metadata": {},
     "output_type": "execute_result"
    }
   ],
   "source": [
    "data['growth'][0]"
   ]
  },
  {
   "cell_type": "code",
   "execution_count": null,
   "metadata": {},
   "outputs": [],
   "source": []
  }
 ],
 "metadata": {
  "kernelspec": {
   "display_name": "Python 3",
   "language": "python",
   "name": "python3"
  },
  "language_info": {
   "codemirror_mode": {
    "name": "ipython",
    "version": 3
   },
   "file_extension": ".py",
   "mimetype": "text/x-python",
   "name": "python",
   "nbconvert_exporter": "python",
   "pygments_lexer": "ipython3",
   "version": "3.7.1"
  }
 },
 "nbformat": 4,
 "nbformat_minor": 2
}
